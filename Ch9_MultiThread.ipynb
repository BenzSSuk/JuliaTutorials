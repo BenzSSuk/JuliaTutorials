{
 "cells": [
  {
   "cell_type": "markdown",
   "metadata": {},
   "source": [
    "# Thread will use resourece of multiple core of CPU\n",
    "\n",
    "How many thread should we have ?\n",
    "1. Thus, while you can have hundreds or thousands of tasks in your program,\n",
    "you should only have a limited number of threads.\n",
    "The general advice is that the number of threads should correspond directly to\n",
    "the number of CPU cores you have."
   ]
  },
  {
   "cell_type": "markdown",
   "metadata": {},
   "source": [
    "# Check CPU and hardware information"
   ]
  },
  {
   "cell_type": "code",
   "execution_count": 1,
   "metadata": {},
   "outputs": [
    {
     "name": "stdout",
     "output_type": "stream",
     "text": [
      "Julia Version 1.4.2\n",
      "Commit 44fa15b150* (2020-05-23 18:35 UTC)\n",
      "Platform Info:\n",
      "  OS: Windows (x86_64-w64-mingw32)\n",
      "      Microsoft Windows [Version 10.0.18362.900]\n",
      "  CPU: Intel(R) Pentium(R) CPU 4415Y @ 1.60GHz: \n",
      "              speed         user         nice          sys         idle          irq\n",
      "       #1  1608 MHz    2200125            0      3854484     90901250       966203  ticks\n",
      "       #2  1608 MHz    2127234            0      2039406     92788750        92281  ticks\n",
      "       #3  1608 MHz    2291031            0      2363250     92301125        41468  ticks\n",
      "       #4  1608 MHz    2399625            0      2172375     92383390        27765  ticks\n",
      "       \n",
      "  Memory: 3.909626007080078 GB (634.43359375 MB free)\n",
      "  Uptime: 1.218641e6 sec\n",
      "  Load Avg:  0.0  0.0  0.0\n",
      "  WORD_SIZE: 64\n",
      "  LIBM: libopenlibm\n",
      "  LLVM: libLLVM-8.0.1 (ORCJIT, skylake)\n",
      "Environment:\n",
      "  JULIA_NUM_THREADS = 2\n",
      "  HOMEDRIVE = C:\n",
      "  HOMEPATH = \\Users\\Benz\n",
      "  PATH = C:\\ProgramData\\Anaconda3;C:\\ProgramData\\Anaconda3\\Library\\mingw-w64\\bin;C:\\ProgramData\\Anaconda3\\Library\\usr\\bin;C:\\ProgramData\\Anaconda3\\Library\\bin;C:\\ProgramData\\Anaconda3\\Scripts;C:\\ProgramData\\Anaconda3\\bin;C:\\ProgramData\\Anaconda3\\condabin;C:\\WINDOWS\\system32;C:\\WINDOWS;C:\\WINDOWS\\System32\\Wbem;C:\\WINDOWS\\System32\\WindowsPowerShell\\v1.0;C:\\WINDOWS\\System32\\OpenSSH;C:\\Program Files\\Git\\cmd;C:\\Users\\Benz\\AppData\\Local\\Programs\\Python\\Python37-32\\Scripts;C:\\Users\\Benz\\AppData\\Local\\Programs\\Python\\Python37-32;C:\\Users\\Benz\\AppData\\Local\\Microsoft\\WindowsApps;C:\\Users\\Benz\\AppData\\Local\\atom\\bin;C:\\Users\\Benz\\AppData\\Local\\Microsoft\\WindowsApps;.;C:\\Program Files\\JetBrains\\PyCharm Community Edition 2019.3.3\\bin;.\n",
      "  PATHEXT = .COM;.EXE;.BAT;.CMD;.VBS;.VBE;.JS;.JSE;.WSF;.WSH;.MSC\n",
      "  PSMODULEPATH = C:\\Program Files\\WindowsPowerShell\\Modules;C:\\WINDOWS\\system32\\WindowsPowerShell\\v1.0\\Modules\n"
     ]
    }
   ],
   "source": [
    "versioninfo(verbose=true)"
   ]
  },
  {
   "cell_type": "markdown",
   "metadata": {},
   "source": [
    "# How to set number of threads \n",
    "We can check the current no. of threads by "
   ]
  },
  {
   "cell_type": "code",
   "execution_count": 1,
   "metadata": {},
   "outputs": [
    {
     "data": {
      "text/plain": [
       "8"
      ]
     },
     "execution_count": 1,
     "metadata": {},
     "output_type": "execute_result"
    }
   ],
   "source": [
    "nThreads=Threads.nthreads()"
   ]
  },
  {
   "cell_type": "markdown",
   "metadata": {},
   "source": [
    "Unfortunately, we can't change number of threads in the script. We have to set no. of threads before starting the Julia\n",
    "\n",
    "For Jupyter notebook\n",
    "1. Open \"Anaconda prompt\" and type \"set JULIA_NUM_THREADS=...\"\n",
    "2. cd to diretory you want and Open jupyter notebook by \"jupyter notebook\"\n",
    "\n",
    "\n",
    "For Juno\n",
    "1. Open Juno > File > Setting > package\n",
    "2. Find package \"julia-client\" and click \"setting\" \n",
    "3. Expand list of \"Julia Options\" you will found insert box \"Number of Threads\", insert number of thread and close setting tab."
   ]
  },
  {
   "cell_type": "markdown",
   "metadata": {},
   "source": [
    "# Multi-Thread with for loop\n"
   ]
  },
  {
   "cell_type": "markdown",
   "metadata": {},
   "source": [
    "\n",
    "We can easily use advantage of multi-threads by divided task in each for loop to Threads. "
   ]
  },
  {
   "cell_type": "markdown",
   "metadata": {},
   "source": [
    "### E.g. 1 Parallel for loop for independent task\n",
    "Using multi-threads execute time will depend on the bigger task. On the other hand, Single thread the excute time will be sum of time in all task. "
   ]
  },
  {
   "cell_type": "code",
   "execution_count": 9,
   "metadata": {},
   "outputs": [],
   "source": [
    "thid=zeros(10)\n",
    "taskSim=[1,2,1,3,1,4,4,5];\n",
    "sumTaskTime=sum(taskSim);\n",
    "nTasks=length(taskSim);"
   ]
  },
  {
   "cell_type": "markdown",
   "metadata": {},
   "source": [
    "### Single thread run \n",
    "Execute time should be around sumTaskTime"
   ]
  },
  {
   "cell_type": "code",
   "execution_count": 15,
   "metadata": {},
   "outputs": [
    {
     "name": "stdout",
     "output_type": "stream",
     "text": [
      " 21.013439 seconds (487 allocations: 13.750 KiB)\n"
     ]
    }
   ],
   "source": [
    "@time begin\n",
    "    for i=1:nTasks\n",
    "        sleep(taskSim[i])\n",
    "    end\n",
    "end"
   ]
  },
  {
   "cell_type": "markdown",
   "metadata": {},
   "source": [
    "### Multi-Threads run\n",
    "Execute time will depend on the biggest taskSim"
   ]
  },
  {
   "cell_type": "code",
   "execution_count": 14,
   "metadata": {},
   "outputs": [
    {
     "name": "stdout",
     "output_type": "stream",
     "text": [
      "i:1 Thread:1.0 Sleep:1 \n",
      "i:6 Thread:6.0 Sleep:4 \n",
      "i:4 Thread:4.0 Sleep:3 \n",
      "i:8 Thread:8.0 Sleep:5 \n",
      "i:2 Thread:2.0 Sleep:2 \n",
      "i:7 Thread:7.0 Sleep:4 \n",
      "i:3 Thread:3.0 Sleep:1 \n",
      "i:5 Thread:5.0 Sleep:1 \n",
      "  5.019182 seconds (23.13 k allocations: 1.158 MiB)\n"
     ]
    }
   ],
   "source": [
    "@time begin\n",
    "Threads.@threads for i=1:nTasks\n",
    "    thid[i]=Threads.threadid()\n",
    "    print(\"i:$i Thread:$(thid[i]) Sleep:$(taskSim[i]) \\n\")\n",
    "    sleep(taskSim[i])\n",
    "    end # loop i\n",
    "end"
   ]
  },
  {
   "cell_type": "markdown",
   "metadata": {},
   "source": [
    "### E.g. 2 Multi-thread in function"
   ]
  },
  {
   "cell_type": "code",
   "execution_count": 3,
   "metadata": {},
   "outputs": [],
   "source": [
    "using Base.Threads\n",
    "using BenchmarkTools"
   ]
  },
  {
   "cell_type": "markdown",
   "metadata": {},
   "source": [
    "Create normal function and multi-threads function"
   ]
  },
  {
   "cell_type": "code",
   "execution_count": 3,
   "metadata": {},
   "outputs": [],
   "source": [
    "function linearSum(x,m,c)\n",
    "    y=(m.*x).+c\n",
    "    return y\n",
    "end\n",
    "\n",
    "function linearSum_threads(x,m,c)\n",
    "    nx=length(x)\n",
    "    y=zeros(nx,1)\n",
    "    Threads.@threads for ix=1:nx\n",
    "        @inbounds y[ix]=m*x[ix]+c\n",
    "        end \n",
    "    \n",
    "    return y\n",
    "end\n",
    "\n",
    "function linearSum_threads2(x,m,c,nThreadsIn)\n",
    "    nx=length(x)\n",
    "    y=zeros(eltype(x),nx,1)\n",
    "    Threads.@threads for ix=1:nx\n",
    "        @inbounds y[ix]=m*x[ix]+c\n",
    "        end \n",
    "    \n",
    "    return y\n",
    "end\n",
    "\n",
    "m=3.52\n",
    "c=0.78;"
   ]
  },
  {
   "cell_type": "markdown",
   "metadata": {},
   "source": [
    "### Can't improve traditional sum"
   ]
  },
  {
   "cell_type": "code",
   "execution_count": 10,
   "metadata": {},
   "outputs": [
    {
     "name": "stdout",
     "output_type": "stream",
     "text": [
      "  2.881 ms (0 allocations: 0 bytes)\n",
      "  2.447 ms (2 allocations: 9.54 MiB)\n",
      "  8.374 ms (60 allocations: 76.30 MiB)\n"
     ]
    },
    {
     "ename": "UndefVarError",
     "evalue": "UndefVarError: elty not defined",
     "output_type": "error",
     "traceback": [
      "UndefVarError: elty not defined",
      "",
      "Stacktrace:",
      " [1] sumt(::Array{Float64,2}, ::Int64) at .\\In[10]:18",
      " [2] macro expansion at .\\In[10]:26 [inlined]",
      " [3] ##core#409(::Array{Float64,2}, ::Int64) at C:\\Users\\Panna\\.julia\\packages\\BenchmarkTools\\eCEpo\\src\\execution.jl:371",
      " [4] ##sample#410(::BenchmarkTools.Parameters) at C:\\Users\\Panna\\.julia\\packages\\BenchmarkTools\\eCEpo\\src\\execution.jl:377",
      " [5] _run(::BenchmarkTools.Benchmark{Symbol(\"##benchmark#408\")}, ::BenchmarkTools.Parameters; verbose::Bool, pad::String, kwargs::Base.Iterators.Pairs{Symbol,Integer,NTuple{4,Symbol},NamedTuple{(:samples, :evals, :gctrial, :gcsample),Tuple{Int64,Int64,Bool,Bool}}}) at C:\\Users\\Panna\\.julia\\packages\\BenchmarkTools\\eCEpo\\src\\execution.jl:405",
      " [6] (::Base.var\"#inner#2\"{Base.Iterators.Pairs{Symbol,Integer,NTuple{5,Symbol},NamedTuple{(:verbose, :samples, :evals, :gctrial, :gcsample),Tuple{Bool,Int64,Int64,Bool,Bool}}},typeof(BenchmarkTools._run),Tuple{BenchmarkTools.Benchmark{Symbol(\"##benchmark#408\")},BenchmarkTools.Parameters}})() at .\\essentials.jl:715",
      " [7] #invokelatest#1 at .\\essentials.jl:716 [inlined]",
      " [8] #run_result#37 at C:\\Users\\Panna\\.julia\\packages\\BenchmarkTools\\eCEpo\\src\\execution.jl:32 [inlined]",
      " [9] run(::BenchmarkTools.Benchmark{Symbol(\"##benchmark#408\")}, ::BenchmarkTools.Parameters; progressid::Nothing, nleaves::Float64, ndone::Float64, kwargs::Base.Iterators.Pairs{Symbol,Integer,NTuple{5,Symbol},NamedTuple{(:verbose, :samples, :evals, :gctrial, :gcsample),Tuple{Bool,Int64,Int64,Bool,Bool}}}) at C:\\Users\\Panna\\.julia\\packages\\BenchmarkTools\\eCEpo\\src\\execution.jl:94",
      " [10] #warmup#45 at C:\\Users\\Panna\\.julia\\packages\\BenchmarkTools\\eCEpo\\src\\execution.jl:141 [inlined]",
      " [11] warmup(::BenchmarkTools.Benchmark{Symbol(\"##benchmark#408\")}) at C:\\Users\\Panna\\.julia\\packages\\BenchmarkTools\\eCEpo\\src\\execution.jl:141",
      " [12] top-level scope at C:\\Users\\Panna\\.julia\\packages\\BenchmarkTools\\eCEpo\\src\\execution.jl:481",
      " [13] top-level scope at In[10]:24"
     ]
    }
   ],
   "source": [
    "x=rand(10000000,1)\n",
    "\n",
    "@btime begin\n",
    "   sum($x) \n",
    "end\n",
    "\n",
    "@btime begin\n",
    "   sum($x[1:1250000,1]) \n",
    "end\n"
   ]
  },
  {
   "cell_type": "code",
   "execution_count": 11,
   "metadata": {},
   "outputs": [
    {
     "name": "stdout",
     "output_type": "stream",
     "text": [
      "  8.393 ms (60 allocations: 76.30 MiB)\n",
      "  312.783 ms (20000047 allocations: 305.18 MiB)\n"
     ]
    },
    {
     "data": {
      "text/plain": [
       "677407.7082735315"
      ]
     },
     "execution_count": 11,
     "metadata": {},
     "output_type": "execute_result"
    }
   ],
   "source": [
    "@btime begin\n",
    "   @threads for it=1:nThreads\n",
    "       sum($x[1:1250000,1]) \n",
    "    end\n",
    "end\n",
    "\n",
    "function sumt(x,nThrd)\n",
    "   y=zero(eltype(x))\n",
    "    @threads for i=1:length(x)\n",
    "         y+=x[i]\n",
    "    end\n",
    "    return y\n",
    "end\n",
    "\n",
    "@btime begin\n",
    "   sumt($x,$nThreads)\n",
    "end"
   ]
  },
  {
   "cell_type": "code",
   "execution_count": 12,
   "metadata": {},
   "outputs": [
    {
     "data": {
      "text/plain": [
       "8"
      ]
     },
     "execution_count": 12,
     "metadata": {},
     "output_type": "execute_result"
    }
   ],
   "source": [
    "nThreads"
   ]
  },
  {
   "cell_type": "markdown",
   "metadata": {},
   "source": [
    "To get the advantage of multi threads that require a bit tricky either not multi-threads may slower than normal."
   ]
  },
  {
   "cell_type": "code",
   "execution_count": 4,
   "metadata": {},
   "outputs": [
    {
     "name": "stdout",
     "output_type": "stream",
     "text": [
      "n:100\n",
      "time single  53.753 ns (1 allocation: 896 bytes)\n",
      "time Multi threads  18.200 μs (44 allocations: 7.53 KiB)\n",
      "n:10000\n",
      "time single  3.657 μs (2 allocations: 78.20 KiB)\n",
      "time Multi threads  23.200 μs (45 allocations: 84.86 KiB)\n",
      "n:100000\n",
      "time single  39.300 μs (2 allocations: 781.33 KiB)\n",
      "time Multi threads  68.999 μs (45 allocations: 787.98 KiB)\n",
      "n:1000000\n",
      "time single  1.476 ms (2 allocations: 7.63 MiB)\n",
      "time Multi threads  2.517 ms (45 allocations: 7.64 MiB)\n"
     ]
    }
   ],
   "source": [
    "arrN=[100,10000,100000,1000000]\n",
    "\n",
    "for n in arrN\n",
    "    print(\"n:$n\\n\")\n",
    "    print(\"time single\")\n",
    "    x=rand(n,1)\n",
    "    @btime begin\n",
    "        linearSum($x,$m,$c)\n",
    "    end\n",
    "    \n",
    "    print(\"time Multi threads\")\n",
    "    @btime begin\n",
    "        linearSum_threads($x,$m,$c)\n",
    "    end\n",
    "#     delY=sum(y1-y2)\n",
    "#     print(\"sum(delY)=$delY\\n\")\n",
    "end"
   ]
  },
  {
   "cell_type": "markdown",
   "metadata": {},
   "source": [
    "### E.g.3 Montr carlo"
   ]
  },
  {
   "cell_type": "code",
   "execution_count": 21,
   "metadata": {},
   "outputs": [
    {
     "data": {
      "text/plain": [
       "pi_serial (generic function with 1 method)"
      ]
     },
     "execution_count": 21,
     "metadata": {},
     "output_type": "execute_result"
    }
   ],
   "source": [
    "using Random\n",
    "function darts_in_circle(n, rng=Random.GLOBAL_RNG)\n",
    "    inside = 0\n",
    "    for i in 1:n\n",
    "        if rand(rng)^2 + rand(rng)^2 < 1\n",
    "            inside += 1\n",
    "        end\n",
    "    end\n",
    "    return inside\n",
    "end\n",
    "function pi_serial(n)\n",
    "    return (4 * darts_in_circle(n) / n)\n",
    "end"
   ]
  },
  {
   "cell_type": "code",
   "execution_count": 29,
   "metadata": {},
   "outputs": [
    {
     "data": {
      "text/plain": [
       "pi_threads (generic function with 1 method)"
      ]
     },
     "execution_count": 29,
     "metadata": {},
     "output_type": "execute_result"
    }
   ],
   "source": [
    "# const rnglist = [MersenneTwister() for i in 1:Threads.nthreads()]\n",
    "function pi_threads(n, loops)\n",
    "    inside = zeros(Int, loops)\n",
    "    \n",
    "    Threads.@threads for i in 1:loops\n",
    "        rng = rnglist[Threads.threadid()]\n",
    "        inside[Threads.threadid()] = darts_in_circle(n, rng)\n",
    "        end\n",
    "            \n",
    "    return (4 * sum(inside) / (n*loops))\n",
    "end"
   ]
  },
  {
   "cell_type": "code",
   "execution_count": 31,
   "metadata": {},
   "outputs": [
    {
     "name": "stdout",
     "output_type": "stream",
     "text": [
      "  80.334 ms (0 allocations: 0 bytes)\n",
      "  5.855 ms (44 allocations: 6.78 KiB)\n"
     ]
    },
    {
     "data": {
      "text/plain": [
       "3.1411385"
      ]
     },
     "execution_count": 31,
     "metadata": {},
     "output_type": "execute_result"
    }
   ],
   "source": [
    "@btime pi_serial(16000000)\n",
    "@btime pi_threads(2000000,8)\n"
   ]
  },
  {
   "cell_type": "code",
   "execution_count": 32,
   "metadata": {},
   "outputs": [
    {
     "data": {
      "text/plain": [
       "0.00036199999999997345"
      ]
     },
     "execution_count": 32,
     "metadata": {},
     "output_type": "execute_result"
    }
   ],
   "source": [
    "diffPI=pi_serial(16000000)-pi_threads(2000000,8)"
   ]
  },
  {
   "cell_type": "code",
   "execution_count": 33,
   "metadata": {},
   "outputs": [
    {
     "data": {
      "text/plain": [
       "0.0005537499999999085"
      ]
     },
     "execution_count": 33,
     "metadata": {},
     "output_type": "execute_result"
    }
   ],
   "source": [
    "diffPI=pi_serial(16000000)-pi_threads(1000000,8)"
   ]
  },
  {
   "cell_type": "code",
   "execution_count": 35,
   "metadata": {},
   "outputs": [
    {
     "data": {
      "text/plain": [
       "-0.0009380000000001054"
      ]
     },
     "execution_count": 35,
     "metadata": {},
     "output_type": "execute_result"
    }
   ],
   "source": [
    "diffPI=pi_serial(16000000)-pi_serial(16000000)"
   ]
  },
  {
   "cell_type": "markdown",
   "metadata": {},
   "source": [
    "### E.g."
   ]
  },
  {
   "cell_type": "code",
   "execution_count": null,
   "metadata": {},
   "outputs": [],
   "source": []
  },
  {
   "cell_type": "code",
   "execution_count": null,
   "metadata": {},
   "outputs": [],
   "source": []
  },
  {
   "cell_type": "code",
   "execution_count": null,
   "metadata": {},
   "outputs": [],
   "source": []
  },
  {
   "cell_type": "code",
   "execution_count": null,
   "metadata": {},
   "outputs": [],
   "source": []
  },
  {
   "cell_type": "code",
   "execution_count": null,
   "metadata": {},
   "outputs": [],
   "source": []
  },
  {
   "cell_type": "code",
   "execution_count": null,
   "metadata": {},
   "outputs": [],
   "source": []
  },
  {
   "cell_type": "markdown",
   "metadata": {},
   "source": [
    "# Atomic variable\n",
    "In the case that we seperates task to parallel loop but need the lasted output to futher operate. We declare variable as Atomic \n",
    "### Declare atomic variable\n"
   ]
  },
  {
   "cell_type": "code",
   "execution_count": 45,
   "metadata": {},
   "outputs": [
    {
     "data": {
      "text/plain": [
       "Base.Threads.Atomic{Int64}(3)"
      ]
     },
     "execution_count": 45,
     "metadata": {},
     "output_type": "execute_result"
    }
   ],
   "source": [
    "arr=3\n",
    "varAtom = Threads.Atomic{eltype(arr)}(arr)"
   ]
  },
  {
   "cell_type": "markdown",
   "metadata": {},
   "source": [
    "Access value of Atomic variable"
   ]
  },
  {
   "cell_type": "code",
   "execution_count": 46,
   "metadata": {},
   "outputs": [
    {
     "data": {
      "text/plain": [
       "3"
      ]
     },
     "execution_count": 46,
     "metadata": {},
     "output_type": "execute_result"
    }
   ],
   "source": [
    "varAtom[]"
   ]
  },
  {
   "cell_type": "markdown",
   "metadata": {},
   "source": [
    "Atomic operator"
   ]
  },
  {
   "cell_type": "code",
   "execution_count": 47,
   "metadata": {},
   "outputs": [
    {
     "data": {
      "text/plain": [
       "3"
      ]
     },
     "execution_count": 47,
     "metadata": {},
     "output_type": "execute_result"
    }
   ],
   "source": [
    "Threads.atomic_add!(varAtom,5)"
   ]
  },
  {
   "cell_type": "markdown",
   "metadata": {},
   "source": [
    "See updated value"
   ]
  },
  {
   "cell_type": "code",
   "execution_count": 48,
   "metadata": {},
   "outputs": [
    {
     "data": {
      "text/plain": [
       "8"
      ]
     },
     "execution_count": 48,
     "metadata": {},
     "output_type": "execute_result"
    }
   ],
   "source": [
    "varAtom[]"
   ]
  },
  {
   "cell_type": "markdown",
   "metadata": {},
   "source": [
    "### Sum a large number"
   ]
  },
  {
   "cell_type": "code",
   "execution_count": 5,
   "metadata": {},
   "outputs": [
    {
     "data": {
      "text/plain": [
       "sum_threads_atomic (generic function with 1 method)"
      ]
     },
     "execution_count": 5,
     "metadata": {},
     "output_type": "execute_result"
    }
   ],
   "source": [
    "# n=100\n",
    "# nDiv=100/8 = 12 + 4\n",
    "#     Threads\n",
    "#        1       1 - 12\n",
    "#        2      13 - 24\n",
    "#        3      25 - 36\n",
    "#        ...\n",
    "#        11     77 - 88\n",
    "#        12     89 - 96+4\n",
    "\n",
    "function sum_threads_atomic(x,nThreads)\n",
    "    global nx,nDivTask\n",
    "    \n",
    "    nx=length(x)\n",
    "    \n",
    "#     nThreads=Threads.nthreads()\n",
    "    nDivTask=floor(nx/nThreads)\n",
    "    \n",
    "#     y=zeros(nx,1)\n",
    "    y = Threads.Atomic{Float64}(0)    \n",
    "    y[]=zero(eltype(x))\n",
    "    \n",
    "    Threads.@threads for it=1:nThreads\n",
    "#         global nx,nDivTask\n",
    "        istr=Int((it-1)*nDivTask + 1)\n",
    "        if it!=nThreads\n",
    "            iend=Int(istr+nDivTask-1)\n",
    "        else\n",
    "            iend=nx\n",
    "        end\n",
    "#         print(\"istr:$istr iend:$iend\\n\")\n",
    "#         y[istr:iend,1]=(m.*x[istr:iend,1]).+c\n",
    "        \n",
    "        y[]=sum(x[istr:iend,1])\n",
    "#          @simd for ix=istr:iend\n",
    "#             y[]+=x[ix]\n",
    "#         end\n",
    "        \n",
    "        Threads.atomic_add!(y,y[])\n",
    "        \n",
    "#         @inbounds Threads.atomic_add!(y,y[])\n",
    "    end\n",
    "#     result = y[]\n",
    "    \n",
    "    return y[]\n",
    "end"
   ]
  },
  {
   "cell_type": "code",
   "execution_count": 6,
   "metadata": {},
   "outputs": [
    {
     "name": "stdout",
     "output_type": "stream",
     "text": [
      "n:100\n",
      "time single  9.609 ns (0 allocations: 0 bytes)\n",
      "time Multi threads  18.800 μs (100 allocations: 8.94 KiB)\n",
      "n:10000\n",
      "time single  778.641 ns (0 allocations: 0 bytes)\n",
      "time Multi threads  20.400 μs (115 allocations: 87.27 KiB)\n",
      "n:100000\n",
      "time single  11.700 μs (0 allocations: 0 bytes)\n",
      "time Multi threads  43.999 μs (123 allocations: 789.89 KiB)\n",
      "n:1000000\n",
      "time single  126.901 μs (0 allocations: 0 bytes)\n",
      "time Multi threads  775.299 μs (123 allocations: 7.64 MiB)\n"
     ]
    }
   ],
   "source": [
    "arrN=[100,10000,100000,1000000]\n",
    "nThreads=Threads.nthreads()\n",
    "for n in arrN\n",
    "    x=rand(n,1)\n",
    "    print(\"n:$n\\n\")\n",
    "    print(\"time single\")\n",
    "# #     print(\"x:$x\\n\")\n",
    "    \n",
    "    @btime begin\n",
    "        sum($x)\n",
    "    end\n",
    "    \n",
    "    print(\"time Multi threads\")\n",
    "    @btime begin\n",
    "        sum_threads_atomic($x,$nThreads)\n",
    "    end\n",
    "end\n",
    "\n",
    "# ydiff=(sum(x)-sum_threads_atomic(x,nThreads))"
   ]
  },
  {
   "cell_type": "markdown",
   "metadata": {},
   "source": [
    "# Async & Sync task \n",
    "The parallel for loop in above are normally use for independent task, task in each loop not require result from the each other."
   ]
  },
  {
   "cell_type": "code",
   "execution_count": null,
   "metadata": {},
   "outputs": [],
   "source": []
  },
  {
   "cell_type": "code",
   "execution_count": null,
   "metadata": {},
   "outputs": [],
   "source": []
  },
  {
   "cell_type": "code",
   "execution_count": null,
   "metadata": {},
   "outputs": [],
   "source": []
  },
  {
   "cell_type": "code",
   "execution_count": null,
   "metadata": {},
   "outputs": [],
   "source": []
  },
  {
   "cell_type": "code",
   "execution_count": null,
   "metadata": {},
   "outputs": [],
   "source": []
  },
  {
   "cell_type": "code",
   "execution_count": null,
   "metadata": {},
   "outputs": [],
   "source": []
  }
 ],
 "metadata": {
  "kernelspec": {
   "display_name": "Julia 1.4.1",
   "language": "julia",
   "name": "julia-1.4"
  },
  "language_info": {
   "file_extension": ".jl",
   "mimetype": "application/julia",
   "name": "julia",
   "version": "1.4.1"
  }
 },
 "nbformat": 4,
 "nbformat_minor": 2
}
